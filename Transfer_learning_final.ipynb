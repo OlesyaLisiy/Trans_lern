{
 "cells": [
  {
   "cell_type": "markdown",
   "metadata": {
    "id": "Qhsy4kR9xO5r"
   },
   "source": [
    "# Transfer learning\n",
    "Урок 3. Model as a service и разные применения Transfer learning\n",
    "\n",
    "1. Найдите тип задач Sentiment Analysis на huggingface.co\n",
    "2. Найдите модель для русского языка (примеры: rubert-tiny2..., rubert-base...)"
   ]
  },
  {
   "cell_type": "code",
   "execution_count": 1,
   "metadata": {
    "colab": {
     "base_uri": "https://localhost:8080/"
    },
    "executionInfo": {
     "elapsed": 11404,
     "status": "ok",
     "timestamp": 1713117894244,
     "user": {
      "displayName": "Никита Хавкин",
      "userId": "12364416613147598772"
     },
     "user_tz": -180
    },
    "id": "M4mUbUd7pJ2r",
    "outputId": "afe0ae1a-7b80-4b05-ed5c-6239bb0f1760"
   },
   "outputs": [
    {
     "name": "stdout",
     "output_type": "stream",
     "text": [
      "Collecting transformers\n",
      "  Downloading transformers-4.41.2-py3-none-any.whl.metadata (43 kB)\n",
      "     ---------------------------------------- 0.0/43.8 kB ? eta -:--:--\n",
      "     ---------------------------------------- 43.8/43.8 kB 2.2 MB/s eta 0:00:00\n",
      "Requirement already satisfied: filelock in c:\\users\\vasil\\appdata\\local\\programs\\python\\python311\\lib\\site-packages (from transformers) (3.13.1)\n",
      "Collecting huggingface-hub<1.0,>=0.23.0 (from transformers)\n",
      "  Downloading huggingface_hub-0.23.4-py3-none-any.whl.metadata (12 kB)\n",
      "Requirement already satisfied: numpy>=1.17 in c:\\users\\vasil\\appdata\\local\\programs\\python\\python311\\lib\\site-packages (from transformers) (1.24.3)\n",
      "Requirement already satisfied: packaging>=20.0 in c:\\users\\vasil\\appdata\\local\\programs\\python\\python311\\lib\\site-packages (from transformers) (23.2)\n",
      "Requirement already satisfied: pyyaml>=5.1 in c:\\users\\vasil\\appdata\\local\\programs\\python\\python311\\lib\\site-packages (from transformers) (6.0.1)\n",
      "Collecting regex!=2019.12.17 (from transformers)\n",
      "  Downloading regex-2024.5.15-cp311-cp311-win_amd64.whl.metadata (41 kB)\n",
      "     ---------------------------------------- 0.0/42.0 kB ? eta -:--:--\n",
      "     ---------------------------------------- 42.0/42.0 kB ? eta 0:00:00\n",
      "Requirement already satisfied: requests in c:\\users\\vasil\\appdata\\local\\programs\\python\\python311\\lib\\site-packages (from transformers) (2.31.0)\n",
      "Collecting tokenizers<0.20,>=0.19 (from transformers)\n",
      "  Downloading tokenizers-0.19.1-cp311-none-win_amd64.whl.metadata (6.9 kB)\n",
      "Collecting safetensors>=0.4.1 (from transformers)\n",
      "  Downloading safetensors-0.4.3-cp311-none-win_amd64.whl.metadata (3.9 kB)\n",
      "Collecting tqdm>=4.27 (from transformers)\n",
      "  Downloading tqdm-4.66.4-py3-none-any.whl.metadata (57 kB)\n",
      "     ---------------------------------------- 0.0/57.6 kB ? eta -:--:--\n",
      "     ---------------------------------------- 57.6/57.6 kB 3.2 MB/s eta 0:00:00\n",
      "Requirement already satisfied: fsspec>=2023.5.0 in c:\\users\\vasil\\appdata\\local\\programs\\python\\python311\\lib\\site-packages (from huggingface-hub<1.0,>=0.23.0->transformers) (2023.12.2)\n",
      "Requirement already satisfied: typing-extensions>=3.7.4.3 in c:\\users\\vasil\\appdata\\local\\programs\\python\\python311\\lib\\site-packages (from huggingface-hub<1.0,>=0.23.0->transformers) (4.9.0)\n",
      "Requirement already satisfied: colorama in c:\\users\\vasil\\appdata\\local\\programs\\python\\python311\\lib\\site-packages (from tqdm>=4.27->transformers) (0.4.6)\n",
      "Requirement already satisfied: charset-normalizer<4,>=2 in c:\\users\\vasil\\appdata\\local\\programs\\python\\python311\\lib\\site-packages (from requests->transformers) (3.3.2)\n",
      "Requirement already satisfied: idna<4,>=2.5 in c:\\users\\vasil\\appdata\\local\\programs\\python\\python311\\lib\\site-packages (from requests->transformers) (3.6)\n",
      "Requirement already satisfied: urllib3<3,>=1.21.1 in c:\\users\\vasil\\appdata\\local\\programs\\python\\python311\\lib\\site-packages (from requests->transformers) (2.1.0)\n",
      "Requirement already satisfied: certifi>=2017.4.17 in c:\\users\\vasil\\appdata\\local\\programs\\python\\python311\\lib\\site-packages (from requests->transformers) (2023.11.17)\n",
      "Downloading transformers-4.41.2-py3-none-any.whl (9.1 MB)\n",
      "   ---------------------------------------- 0.0/9.1 MB ? eta -:--:--\n",
      "   - -------------------------------------- 0.4/9.1 MB 11.9 MB/s eta 0:00:01\n",
      "   --- ------------------------------------ 0.8/9.1 MB 13.5 MB/s eta 0:00:01\n",
      "   ------ --------------------------------- 1.5/9.1 MB 11.6 MB/s eta 0:00:01\n",
      "   -------- ------------------------------- 1.9/9.1 MB 12.1 MB/s eta 0:00:01\n",
      "   --------- ------------------------------ 2.2/9.1 MB 10.8 MB/s eta 0:00:01\n",
      "   ----------- ---------------------------- 2.6/9.1 MB 10.4 MB/s eta 0:00:01\n",
      "   ------------- -------------------------- 3.0/9.1 MB 10.8 MB/s eta 0:00:01\n",
      "   --------------- ------------------------ 3.5/9.1 MB 10.5 MB/s eta 0:00:01\n",
      "   ---------------- ----------------------- 3.8/9.1 MB 10.7 MB/s eta 0:00:01\n",
      "   ------------------ --------------------- 4.2/9.1 MB 10.3 MB/s eta 0:00:01\n",
      "   ------------------- -------------------- 4.5/9.1 MB 10.0 MB/s eta 0:00:01\n",
      "   --------------------- ------------------ 5.0/9.1 MB 10.2 MB/s eta 0:00:01\n",
      "   ----------------------- ---------------- 5.4/9.1 MB 10.2 MB/s eta 0:00:01\n",
      "   ------------------------- -------------- 5.9/9.1 MB 10.4 MB/s eta 0:00:01\n",
      "   ---------------------------- ----------- 6.4/9.1 MB 10.3 MB/s eta 0:00:01\n",
      "   ------------------------------ --------- 6.8/9.1 MB 10.4 MB/s eta 0:00:01\n",
      "   -------------------------------- ------- 7.3/9.1 MB 10.4 MB/s eta 0:00:01\n",
      "   ---------------------------------- ----- 7.7/9.1 MB 10.5 MB/s eta 0:00:01\n",
      "   ------------------------------------ --- 8.2/9.1 MB 10.5 MB/s eta 0:00:01\n",
      "   -------------------------------------- - 8.7/9.1 MB 10.5 MB/s eta 0:00:01\n",
      "   ---------------------------------------  9.1/9.1 MB 10.6 MB/s eta 0:00:01\n",
      "   ---------------------------------------  9.1/9.1 MB 10.6 MB/s eta 0:00:01\n",
      "   ---------------------------------------  9.1/9.1 MB 10.6 MB/s eta 0:00:01\n",
      "   ---------------------------------------- 9.1/9.1 MB 9.5 MB/s eta 0:00:00\n",
      "Downloading huggingface_hub-0.23.4-py3-none-any.whl (402 kB)\n",
      "   ---------------------------------------- 0.0/402.6 kB ? eta -:--:--\n",
      "   --------------------------------------  399.4/402.6 kB 12.6 MB/s eta 0:00:01\n",
      "   ---------------------------------------- 402.6/402.6 kB 8.3 MB/s eta 0:00:00\n",
      "Downloading regex-2024.5.15-cp311-cp311-win_amd64.whl (268 kB)\n",
      "   ---------------------------------------- 0.0/269.0 kB ? eta -:--:--\n",
      "   ---------------------------------------- 269.0/269.0 kB 8.3 MB/s eta 0:00:00\n",
      "Downloading safetensors-0.4.3-cp311-none-win_amd64.whl (287 kB)\n",
      "   ---------------------------------------- 0.0/287.3 kB ? eta -:--:--\n",
      "   ---------------------------------------- 287.3/287.3 kB 8.9 MB/s eta 0:00:00\n",
      "Downloading tokenizers-0.19.1-cp311-none-win_amd64.whl (2.2 MB)\n",
      "   ---------------------------------------- 0.0/2.2 MB ? eta -:--:--\n",
      "   -------- ------------------------------- 0.5/2.2 MB 15.2 MB/s eta 0:00:01\n",
      "   ----------------- ---------------------- 1.0/2.2 MB 15.4 MB/s eta 0:00:01\n",
      "   -------------------------- ------------- 1.5/2.2 MB 13.2 MB/s eta 0:00:01\n",
      "   ------------------------------- -------- 1.8/2.2 MB 11.2 MB/s eta 0:00:01\n",
      "   ---------------------------------------  2.2/2.2 MB 11.7 MB/s eta 0:00:01\n",
      "   ---------------------------------------- 2.2/2.2 MB 9.4 MB/s eta 0:00:00\n",
      "Downloading tqdm-4.66.4-py3-none-any.whl (78 kB)\n",
      "   ---------------------------------------- 0.0/78.3 kB ? eta -:--:--\n",
      "   ---------------------------------------- 78.3/78.3 kB 2.2 MB/s eta 0:00:00\n",
      "Installing collected packages: tqdm, safetensors, regex, huggingface-hub, tokenizers, transformers\n",
      "Successfully installed huggingface-hub-0.23.4 regex-2024.5.15 safetensors-0.4.3 tokenizers-0.19.1 tqdm-4.66.4 transformers-4.41.2\n",
      "Note: you may need to restart the kernel to use updated packages.\n"
     ]
    },
    {
     "name": "stderr",
     "output_type": "stream",
     "text": [
      "\n",
      "[notice] A new release of pip is available: 24.0 -> 24.1\n",
      "[notice] To update, run: python.exe -m pip install --upgrade pip\n"
     ]
    }
   ],
   "source": [
    "# Установка библиотеки transformers\n",
    "%pip install transformers"
   ]
  },
  {
   "cell_type": "code",
   "execution_count": 2,
   "metadata": {
    "colab": {
     "base_uri": "https://localhost:8080/"
    },
    "executionInfo": {
     "elapsed": 20497,
     "status": "ok",
     "timestamp": 1713117914737,
     "user": {
      "displayName": "Никита Хавкин",
      "userId": "12364416613147598772"
     },
     "user_tz": -180
    },
    "id": "XS_Ed50YuUO3",
    "outputId": "d4b2ba23-e65b-4f70-b6a0-f590b04e9447"
   },
   "outputs": [
    {
     "data": {
      "application/vnd.jupyter.widget-view+json": {
       "model_id": "dd15ab958ecd4a7198e7f4996c850206",
       "version_major": 2,
       "version_minor": 0
      },
      "text/plain": [
       "config.json:   0%|          | 0.00/911 [00:00<?, ?B/s]"
      ]
     },
     "metadata": {},
     "output_type": "display_data"
    },
    {
     "name": "stderr",
     "output_type": "stream",
     "text": [
      "C:\\Users\\vasil\\AppData\\Local\\Programs\\Python\\Python311\\Lib\\site-packages\\huggingface_hub\\file_download.py:157: UserWarning: `huggingface_hub` cache-system uses symlinks by default to efficiently store duplicated files but your machine does not support them in C:\\Users\\vasil\\.cache\\huggingface\\hub\\models--seara--rubert-tiny2-russian-sentiment. Caching files will still work but in a degraded version that might require more space on your disk. This warning can be disabled by setting the `HF_HUB_DISABLE_SYMLINKS_WARNING` environment variable. For more details, see https://huggingface.co/docs/huggingface_hub/how-to-cache#limitations.\n",
      "To support symlinks on Windows, you either need to activate Developer Mode or to run Python as an administrator. In order to see activate developer mode, see this article: https://docs.microsoft.com/en-us/windows/apps/get-started/enable-your-device-for-development\n",
      "  warnings.warn(message)\n"
     ]
    },
    {
     "data": {
      "application/vnd.jupyter.widget-view+json": {
       "model_id": "1058312824424a959c3710ce5b6d1219",
       "version_major": 2,
       "version_minor": 0
      },
      "text/plain": [
       "model.safetensors:   0%|          | 0.00/117M [00:00<?, ?B/s]"
      ]
     },
     "metadata": {},
     "output_type": "display_data"
    },
    {
     "data": {
      "application/vnd.jupyter.widget-view+json": {
       "model_id": "5d6bf2601bc741e2b49b75bf60983645",
       "version_major": 2,
       "version_minor": 0
      },
      "text/plain": [
       "tokenizer_config.json:   0%|          | 0.00/368 [00:00<?, ?B/s]"
      ]
     },
     "metadata": {},
     "output_type": "display_data"
    },
    {
     "data": {
      "application/vnd.jupyter.widget-view+json": {
       "model_id": "e9c0409015c6457db341c41fdd0336b8",
       "version_major": 2,
       "version_minor": 0
      },
      "text/plain": [
       "vocab.txt:   0%|          | 0.00/1.08M [00:00<?, ?B/s]"
      ]
     },
     "metadata": {},
     "output_type": "display_data"
    },
    {
     "data": {
      "application/vnd.jupyter.widget-view+json": {
       "model_id": "2fc19b0822d14a3a99d8bd0115668c70",
       "version_major": 2,
       "version_minor": 0
      },
      "text/plain": [
       "tokenizer.json:   0%|          | 0.00/2.41M [00:00<?, ?B/s]"
      ]
     },
     "metadata": {},
     "output_type": "display_data"
    },
    {
     "data": {
      "application/vnd.jupyter.widget-view+json": {
       "model_id": "a03714d8b47348a88e290cbe0ba7c477",
       "version_major": 2,
       "version_minor": 0
      },
      "text/plain": [
       "special_tokens_map.json:   0%|          | 0.00/125 [00:00<?, ?B/s]"
      ]
     },
     "metadata": {},
     "output_type": "display_data"
    },
    {
     "name": "stdout",
     "output_type": "stream",
     "text": [
      "Текст: Отличный товар | Эмоциональная окраска: positive | Вероятность: 0.9941\n",
      "Текст: Мне не понравилось | Эмоциональная окраска: neutral | Вероятность: 0.5912\n",
      "Текст: Прекрасно выглядит, ничего не меняйте! | Эмоциональная окраска: positive | Вероятность: 0.9389\n",
      "Текст: Ничего не понял | Эмоциональная окраска: negative | Вероятность: 0.5240\n",
      "Текст: У меня не работала розетка, в остальном все отлично | Эмоциональная окраска: positive | Вероятность: 0.6734\n"
     ]
    }
   ],
   "source": [
    "# Импорт необходимых библиотек\n",
    "from transformers import pipeline\n",
    "\n",
    "# Инициализация объекта pipeline с моделью для анализа тональности на русском языке\n",
    "# Замените 'seara/rubert-tiny2-russian-sentiment' на актуальное имя модели с сайта huggingface.co\n",
    "classifier = pipeline('sentiment-analysis', model='seara/rubert-tiny2-russian-sentiment')\n",
    "\n",
    "# Применение классификатора к списку текстов\n",
    "texts = [\n",
    "    \"Отличный товар\",\n",
    "    \"Мне не понравилось\",\n",
    "    \"Прекрасно выглядит, ничего не меняйте!\",\n",
    "    \"Ничего не понял\",\n",
    "    \"У меня не работала розетка, в остальном все отлично\"\n",
    "]\n",
    "\n",
    "predictions = classifier(texts)\n",
    "\n",
    "# Вывод результатов\n",
    "for review, prediction in zip(texts, predictions):\n",
    "    print(f\"Текст: {review} | Эмоциональная окраска: {prediction['label']} | Вероятность: {prediction['score']:.4f}\")"
   ]
  }
 ],
 "metadata": {
  "colab": {
   "authorship_tag": "ABX9TyM/x8EC1GfCdUCP7r2cb2Bk",
   "provenance": []
  },
  "kernelspec": {
   "display_name": "Python 3 (ipykernel)",
   "language": "python",
   "name": "python3"
  },
  "language_info": {
   "codemirror_mode": {
    "name": "ipython",
    "version": 3
   },
   "file_extension": ".py",
   "mimetype": "text/x-python",
   "name": "python",
   "nbconvert_exporter": "python",
   "pygments_lexer": "ipython3",
   "version": "3.11.4"
  }
 },
 "nbformat": 4,
 "nbformat_minor": 4
}
